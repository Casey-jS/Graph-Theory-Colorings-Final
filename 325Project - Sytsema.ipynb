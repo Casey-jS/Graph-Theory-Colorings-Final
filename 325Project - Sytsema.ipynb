{
 "cells": [
  {
   "cell_type": "markdown",
   "metadata": {},
   "source": [
    "<h\"A\">Colorings</h1>"
   ]
  },
  {
   "cell_type": "markdown",
   "metadata": {},
   "source": [
    "The purpose of this project is for you to write codes th1t test whether or not a given coloring is proper (this includes both vertex and edge-colorings).  In addition, you will create a function that determine whether or not a given graph has chromatic number at most 3, and another function that implements the Greedy Algorithm for vertex-colorings.\n",
    "\n",
    "Note that when you are outputing a coloring, the order does not matter.  For example, {\"A\":1, \"B\":2} will be considered the same as {\"B\":2, \"A\":1}.  The ONLY IMPORT ALLOWED is  \"copy\" and you are ONLY allowed to use the copy.deepcopy() method from this package.  All of your code should be 'from scracth.'  "
   ]
  },
  {
   "cell_type": "markdown",
   "metadata": {},
   "source": [
    "<h2>Objectives</h2>"
   ]
  },
  {
   "cell_type": "markdown",
   "metadata": {},
   "source": [
    "<h3>is_proper</h3>"
   ]
  },
  {
   "cell_type": "markdown",
   "metadata": {},
   "source": [
    "You are to write a function <b>is_proper(graph,color)</b> that has two inputs: one a graph, and the other a\n",
    "labelling of the vertices, and determines whether or not the labelling is a proper vertex-coloring of the given\n",
    "graph. In other words, return the Boolean value True if it is, and False if it is not."
   ]
  },
  {
   "cell_type": "code",
   "execution_count": 2,
   "metadata": {},
   "outputs": [
    {
     "name": "stdout",
     "output_type": "stream",
     "text": [
      "True False\n"
     ]
    }
   ],
   "source": [
    "def is_proper(graph, colors):\n",
    "    for vertex in graph:\n",
    "        for neighbor in graph[vertex]:\n",
    "            if colors[vertex] == colors[neighbor]:\n",
    "                return False\n",
    "    return True    "
   ]
  },
  {
   "cell_type": "markdown",
   "metadata": {},
   "source": [
    "After compiling the above cell, you should be able to compile the following cell and obtain the desired outputs."
   ]
  },
  {
   "cell_type": "code",
   "execution_count": null,
   "metadata": {},
   "outputs": [],
   "source": [
    "print(is_proper({\"A\": [\"B\", \"C\"], \"B\": [\"A\", \"C\"], \"C\": [\"A\", \"B\"]}, {\"A\": 1, \"B\": 2, \"C\": 3}),\n",
    "      is_proper({\"A\": [\"B\", \"C\"], \"B\": [\"A\", \"C\"], \"C\": [\"A\", \"B\"]}, {\"A\": 1, \"B\": 1, \"C\": 3}))"
   ]
  },
  {
   "cell_type": "markdown",
   "metadata": {},
   "source": [
    "This should return\n",
    "\n",
    "True False"
   ]
  },
  {
   "cell_type": "markdown",
   "metadata": {},
   "source": [
    "<h3>three_color</h3>"
   ]
  },
  {
   "cell_type": "markdown",
   "metadata": {},
   "source": [
    "Write a function <b>three_color(graph)</b> that takes in a graph as its input, and then returns a single list that contains all possible vertex-colorings (NOT necessarily proper!) of that graph using at most three colors."
   ]
  },
  {
   "cell_type": "code",
   "execution_count": 3,
   "metadata": {
    "collapsed": true
   },
   "outputs": [
    {
     "name": "stdout",
     "output_type": "stream",
     "text": [
      "[{'A': 1, 'B': 1}, {'A': 2, 'B': 1}, {'A': 3, 'B': 1}, {'A': 1, 'B': 2}, {'A': 2, 'B': 2}, {'A': 3, 'B': 2}, {'A': 1, 'B': 3}, {'A': 2, 'B': 3}, {'A': 3, 'B': 3}]\n"
     ]
    }
   ],
   "source": [
    "import copy\n",
    "def three_color(graph):\n",
    "\n",
    "    num_vertices = len(graph)\n",
    "    coloring = []\n",
    "\n",
    "    # recursively returns list of all color permutations\n",
    "    def list_perms(length, colors=[]):\n",
    "        if length == 0: return colors\n",
    "        else:\n",
    "            length -= 1\n",
    "            return list_perms(length, [1] + colors) + list_perms(length, [2] + colors) + list_perms(length, [3] + colors)\n",
    "\n",
    "    # list of all vertices\n",
    "    vertices = []\n",
    "    for v in graph: vertices.append(v)\n",
    "\n",
    "    # list of all color permutations\n",
    "    colors = list_perms(num_vertices)\n",
    "    \n",
    "    # separates list into list of lists\n",
    "    def get_sublists(lst):\n",
    "        for i in range(0, len(lst), num_vertices):\n",
    "            yield lst[i:i + num_vertices]\n",
    "\n",
    "    colors = get_sublists(colors)\n",
    "\n",
    "    for lst in colors:\n",
    "        d = {}\n",
    "        # assign a color to each vertex\n",
    "        i = 0\n",
    "        for color in lst:\n",
    "            d[vertices[i]] = color\n",
    "            i += 1\n",
    "    \n",
    "        dcopy = copy.deepcopy(d)\n",
    "        coloring.append(dcopy)\n",
    "\n",
    "    return coloring"
   ]
  },
  {
   "cell_type": "markdown",
   "metadata": {},
   "source": [
    "After compiling the above cell, you should be able to compile the following cell and obtain the desired outputs."
   ]
  },
  {
   "cell_type": "code",
   "execution_count": null,
   "metadata": {},
   "outputs": [],
   "source": [
    "print(three_color({\"A\": [\"B\"], \"B\": [\"A\"]}))"
   ]
  },
  {
   "cell_type": "markdown",
   "metadata": {},
   "source": [
    "This should return \n",
    "\n",
    "[{\"A\":1, \"B\":1}, {\"A\":1, \"B\":2}, {\"A\":1, \"B\":3}, {\"A\":2, \"B\":1}, {\"A\":2, \"B\":2}, {\"A\":2, \"B\":3}, {\"A\":3, \"B\":1}, {\"A\":3, \"B\":2}, {\"A\":3, \"B\":3}]"
   ]
  },
  {
   "cell_type": "markdown",
   "metadata": {},
   "source": [
    "<h3>is_three_color</h3>"
   ]
  },
  {
   "cell_type": "markdown",
   "metadata": {},
   "source": [
    "Write a function <b>is_three_color(graph)</b> that takes in a graph as its input, and then determines whether or not the chromatic number of the graph is at most three.  In other words, it will return the Boolean value True if it is, and False if it is not."
   ]
  },
  {
   "cell_type": "code",
   "execution_count": 4,
   "metadata": {
    "collapsed": true
   },
   "outputs": [
    {
     "name": "stdout",
     "output_type": "stream",
     "text": [
      "{'A': 1, 'B': 2, 'C': 3, 'D': 4}\n",
      "{'A': 1, 'B': 2, 'C': 2, 'D': 2, 'E': 2}\n",
      "True False True\n"
     ]
    }
   ],
   "source": [
    "def is_three_color(graph):\n",
    "    if len(graph) < 4: return True\n",
    "    \n",
    "    def greedy(graph, order):\n",
    "        coloring = {}\n",
    "        for vertex in order: coloring[vertex] = 0 # initialize all colors to 0\n",
    "\n",
    "        def color(neighbors):\n",
    "            colors = []\n",
    "            for neighbor in neighbors: colors.append(coloring[neighbor])\n",
    "\n",
    "            for color in range(1, len(graph)):\n",
    "                if color not in colors: return color\n",
    "            return max(c for c in colors) + 1\n",
    "\n",
    "        for vertex in order: coloring[vertex] = color(graph[vertex])\n",
    "        return coloring\n",
    "\n",
    "    vertices = []\n",
    "\n",
    "    for vertex in graph:\n",
    "        vertices.append(vertex)\n",
    "    coloring = greedy(graph, vertices)\n",
    "\n",
    "    for vertex in coloring:\n",
    "        if coloring[vertex] > 3:\n",
    "            return False\n",
    "    return True"
   ]
  },
  {
   "cell_type": "markdown",
   "metadata": {},
   "source": [
    "After compiling the above cell, you should be able to compile the following cell and obtain the desired outputs."
   ]
  },
  {
   "cell_type": "code",
   "execution_count": null,
   "metadata": {},
   "outputs": [],
   "source": [
    "print(is_three_color({\"A\": [\"B\", \"C\"], \"B\": [\"A\", \"C\"], \"C\": [\"A\", \"B\"]}),\n",
    "      is_three_color({\"A\": [\"B\", \"C\", \"D\"], \"B\": [\"A\", \"C\", \"D\"], \"C\": [\"A\", \"B\", \"D\"], \"D\":[\"A\", \"B\", \"C\"]}),\n",
    "      is_three_color({\"A\": [\"B\",\"C\",\"D\",\"E\"], \"B\":[\"A\"], \"C\":[\"A\"], \"D\":[\"A\"], \"E\":[\"A\"]}))\n"
   ]
  },
  {
   "cell_type": "markdown",
   "metadata": {},
   "source": [
    "This should return\n",
    "\n",
    "True  False  True"
   ]
  },
  {
   "cell_type": "markdown",
   "metadata": {},
   "source": [
    "<h3>is_proper_edge</h3>"
   ]
  },
  {
   "cell_type": "markdown",
   "metadata": {},
   "source": [
    "Write a function <b>is_proper_edge(graph)</b> that takes in a weighted graph (remember that this is just a labelling of the edges) and then determines whether or not the labelling is a proper edge-coloring.  In other words, it will return the Boolean value True if it is a proper edge-coloring, and False if it is not."
   ]
  },
  {
   "cell_type": "code",
   "execution_count": 6,
   "metadata": {
    "collapsed": true
   },
   "outputs": [
    {
     "name": "stdout",
     "output_type": "stream",
     "text": [
      "True False\n"
     ]
    }
   ],
   "source": [
    "def is_proper_edge(graph):\n",
    "\n",
    "    edge_colors = [] # list of lists\n",
    "\n",
    "    for vertex in graph:\n",
    "        colors = []\n",
    "        for neighbor_list in graph[vertex]: \n",
    "            colors.append(neighbor_list[1]) # add color to colors list\n",
    "        edge_colors.append(colors) # add list to list of lists\n",
    "        \n",
    "    for colors in edge_colors:\n",
    "        if len(colors) != len(set(colors)): # check for duplicates in each sublist\n",
    "            return False\n",
    "    return True"
   ]
  },
  {
   "cell_type": "markdown",
   "metadata": {},
   "source": [
    "After compiling the above cell, you should be able to compile the following cell and obtain the desired outputs."
   ]
  },
  {
   "cell_type": "code",
   "execution_count": 7,
   "metadata": {},
   "outputs": [
    {
     "name": "stdout",
     "output_type": "stream",
     "text": [
      "True False\n"
     ]
    }
   ],
   "source": [
    "print(is_proper_edge({\"A\":[[\"B\", 1], [\"C\", 2]], \"B\": [[\"A\", 1], [\"C\", 3]], \"C\": [[\"A\", 2], [\"B\", 3]]}),\n",
    "      is_proper_edge({\"A\":[[\"B\", 1], [\"C\", 2]], \"B\": [[\"A\", 1], [\"C\", 2]], \"C\": [[\"A\", 2], [\"B\", 2]]}))"
   ]
  },
  {
   "cell_type": "markdown",
   "metadata": {},
   "source": [
    "This should return\n",
    "\n",
    "True    False"
   ]
  },
  {
   "cell_type": "markdown",
   "metadata": {},
   "source": [
    "<h3>greedy</h3>"
   ]
  },
  {
   "cell_type": "markdown",
   "metadata": {},
   "source": [
    "Write a function <b>greedy(graph, order)</b> that takes in two inputs, one a graph and the other an ordering of the vertices, and returns the proper vertex-coloring produced by the greedy algorithm.  Remember that in which the vertices/keys appear does not matter, but the colors/values assigned to the vertices/keys does."
   ]
  },
  {
   "cell_type": "code",
   "execution_count": 8,
   "metadata": {
    "collapsed": true
   },
   "outputs": [],
   "source": [
    "def greedy(graph, order):\n",
    "    coloring = {}\n",
    "\n",
    "    for vertex in order: coloring[vertex] = 0 # initialize all colors to 0\n",
    "\n",
    "    def color(neighbors):\n",
    "        colors = []\n",
    "        for neighbor in neighbors: colors.append(coloring[neighbor])\n",
    "\n",
    "        for color in range(1, len(graph)):\n",
    "            if color not in colors: return color\n",
    "        return max(c for c in colors) + 1\n",
    "\n",
    "    for vertex in order: coloring[vertex] = color(graph[vertex])\n",
    "    return coloring"
   ]
  },
  {
   "cell_type": "markdown",
   "metadata": {},
   "source": [
    "After compiling the above cell, you should be able to compile the following cell and obtain the desired outputs."
   ]
  },
  {
   "cell_type": "code",
   "execution_count": 9,
   "metadata": {},
   "outputs": [
    {
     "name": "stdout",
     "output_type": "stream",
     "text": [
      "{'A': 1, 'B': 2, 'C': 2} {'A': 1, 'D': 1, 'B': 2, 'C': 3}\n"
     ]
    }
   ],
   "source": [
    "print(greedy({\"A\": [\"B\", \"C\"], \"B\": [\"A\"], \"C\": [\"A\"]}, [\"A\", \"B\", \"C\"]),\n",
    "      greedy({\"A\": [\"B\"], \"B\": [\"A\", \"C\"], \"C\": [\"B\", \"D\"], \"D\": [\"C\"]}, [\"A\", \"D\", \"B\", \"C\"]))"
   ]
  },
  {
   "cell_type": "markdown",
   "metadata": {},
   "source": [
    "This should return\n",
    "\n",
    "{\"A\":1, \"B\": 2, \"C\": 2}    {\"A\":1, \"B\": 2, \"C\": 3, \"D\": 1}"
   ]
  },
  {
   "cell_type": "code",
   "execution_count": null,
   "metadata": {
    "collapsed": true
   },
   "outputs": [],
   "source": []
  }
 ],
 "metadata": {
  "anaconda-cloud": {},
  "kernelspec": {
   "display_name": "Python 3",
   "language": "python",
   "name": "python3"
  },
  "language_info": {
   "codemirror_mode": {
    "name": "ipython",
    "version": 3
   },
   "file_extension": ".py",
   "mimetype": "text/x-python",
   "name": "python",
   "nbconvert_exporter": "python",
   "pygments_lexer": "ipython3",
   "version": "3.9.6"
  }
 },
 "nbformat": 4,
 "nbformat_minor": 1
}
